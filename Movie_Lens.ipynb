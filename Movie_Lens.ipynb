{
  "nbformat": 4,
  "nbformat_minor": 0,
  "metadata": {
    "colab": {
      "name": "Movie Lens.ipynb",
      "provenance": [],
      "collapsed_sections": [],
      "authorship_tag": "ABX9TyMVcYp3KKuML9cnLVSzrj+b",
      "include_colab_link": true
    },
    "kernelspec": {
      "name": "python3",
      "display_name": "Python 3"
    }
  },
  "cells": [
    {
      "cell_type": "markdown",
      "metadata": {
        "id": "view-in-github",
        "colab_type": "text"
      },
      "source": [
        "<a href=\"https://colab.research.google.com/github/Sree-stack/github_welcome/blob/master/Movie_Lens.ipynb\" target=\"_parent\"><img src=\"https://colab.research.google.com/assets/colab-badge.svg\" alt=\"Open In Colab\"/></a>"
      ]
    },
    {
      "cell_type": "markdown",
      "metadata": {
        "id": "fjHuLxxiwRmQ",
        "colab_type": "text"
      },
      "source": [
        "Movie Recommendation system using -KNN"
      ]
    },
    {
      "cell_type": "markdown",
      "metadata": {
        "id": "MxlVIVlIwde1",
        "colab_type": "text"
      },
      "source": [
        "In this notebook,I have made a basic movie recommendation system using item based Collaborative Filtering.\n",
        "Collaborative filtering is a technique that can filter out items that a user might like on the basis of reactions by similar users. It works by searching a large group of people and finding a smaller set of users with tastes similar to a particular user. It looks at the items they like and combines them to create a ranked list of suggestions."
      ]
    },
    {
      "cell_type": "markdown",
      "metadata": {
        "id": "kOHsK9NOwuLY",
        "colab_type": "text"
      },
      "source": [
        "Item-based collaborative filtering"
      ]
    },
    {
      "cell_type": "markdown",
      "metadata": {
        "id": "2ac-C-fcw0v5",
        "colab_type": "text"
      },
      "source": [
        "Item-item collaborative filtering, or item-based, or item-to-item, is a form of collaborative filtering for recommender systems based on the similarity between items calculated using people's ratings of those items. Item-item collaborative filtering was invented and used by Amazon.com in 1998.It was first published in an academic conference in 2001."
      ]
    },
    {
      "cell_type": "markdown",
      "metadata": {
        "id": "tCM5-a_Xw43E",
        "colab_type": "text"
      },
      "source": [
        "Earlier collaborative filtering systems based on rating similarity between users (known as user-user collaborative filtering) had several problems:"
      ]
    },
    {
      "cell_type": "markdown",
      "metadata": {
        "id": "npMYKqAOw8u5",
        "colab_type": "text"
      },
      "source": [
        "systems performed poorly when they had many items but comparatively few ratings computing similarities between all pairs of users was expensive user profiles changed quickly and the entire system model had to be recomputed Item-item models resolve these problems in systems that have more users than items. Item-item models use rating distributions per item, not per user. With more users than items, each item tends to have more ratings than each user, so an item's average rating usually doesn't change quickly. This leads to more stable rating distributions in the model, so the model doesn't have to be rebuilt as often. When users consume and then rate an item, that item's similar items are picked from the existing system model and added to the user's recommendations."
      ]
    },
    {
      "cell_type": "markdown",
      "metadata": {
        "id": "MGzYne1cxOxU",
        "colab_type": "text"
      },
      "source": [
        "**Method**"
      ]
    },
    {
      "cell_type": "markdown",
      "metadata": {
        "id": "MHTS8l4QxURY",
        "colab_type": "text"
      },
      "source": [
        "First, the system executes a model-building stage by finding the similarity between all pairs of items. This similarity function can take many forms, such as correlation between ratings or cosine of those rating vectors. As in user-user systems, similarity functions can use normalized ratings (correcting, for instance, for each user's average rating).\n",
        "\n",
        "Second, the system executes a recommendation stage. It uses the most similar items to a user's already-rated items to generate a list of recommendations. Usually this calculation is a weighted sum or linear regression. This form of recommendation is analogous to \"people who rate item X highly, like you, also tend to rate item Y highly, and you haven't rated item Y yet, so you should try it\".**"
      ]
    },
    {
      "cell_type": "markdown",
      "metadata": {
        "id": "BCPG9xFfxbCk",
        "colab_type": "text"
      },
      "source": [
        "**So let's get started**"
      ]
    },
    {
      "cell_type": "code",
      "metadata": {
        "id": "Dsy1R1hY0lKx",
        "colab_type": "code",
        "colab": {
          "base_uri": "https://localhost:8080/",
          "height": 107
        },
        "outputId": "8906e3f6-dde8-40af-8236-e4d8eafffb63"
      },
      "source": [
        "pip install fuzzywuzzy"
      ],
      "execution_count": 19,
      "outputs": [
        {
          "output_type": "stream",
          "text": [
            "Collecting fuzzywuzzy\n",
            "  Downloading https://files.pythonhosted.org/packages/43/ff/74f23998ad2f93b945c0309f825be92e04e0348e062026998b5eefef4c33/fuzzywuzzy-0.18.0-py2.py3-none-any.whl\n",
            "Installing collected packages: fuzzywuzzy\n",
            "Successfully installed fuzzywuzzy-0.18.0\n"
          ],
          "name": "stdout"
        }
      ]
    },
    {
      "cell_type": "code",
      "metadata": {
        "id": "NYL-1lWZxhL1",
        "colab_type": "code",
        "colab": {
          "base_uri": "https://localhost:8080/",
          "height": 72
        },
        "outputId": "c24c0984-b95b-488e-dd4a-4cd1820912a2"
      },
      "source": [
        "import numpy as np \n",
        "import pandas as pd\n",
        "import matplotlib.pyplot as plt\n",
        "from scipy.sparse import csr_matrix\n",
        "from sklearn.neighbors import NearestNeighbors\n",
        "from fuzzywuzzy import process"
      ],
      "execution_count": 20,
      "outputs": [
        {
          "output_type": "stream",
          "text": [
            "/usr/local/lib/python3.6/dist-packages/fuzzywuzzy/fuzz.py:11: UserWarning: Using slow pure-python SequenceMatcher. Install python-Levenshtein to remove this warning\n",
            "  warnings.warn('Using slow pure-python SequenceMatcher. Install python-Levenshtein to remove this warning')\n"
          ],
          "name": "stderr"
        }
      ]
    },
    {
      "cell_type": "markdown",
      "metadata": {
        "id": "LASQg37Z1iDA",
        "colab_type": "text"
      },
      "source": [
        "**Importing the dataset**"
      ]
    },
    {
      "cell_type": "code",
      "metadata": {
        "id": "6h3Cei49yRKV",
        "colab_type": "code",
        "colab": {}
      },
      "source": [
        "movie=pd.read_csv('movie.csv')\n",
        "#rating=pd.read_csv('rating.csv')\n",
        "tag=pd.read_csv('tag.csv')"
      ],
      "execution_count": 9,
      "outputs": []
    },
    {
      "cell_type": "markdown",
      "metadata": {
        "id": "9wmt_GoUyhtl",
        "colab_type": "text"
      },
      "source": [
        "let's have a look at our dataset"
      ]
    },
    {
      "cell_type": "code",
      "metadata": {
        "id": "ECLzLUxkyise",
        "colab_type": "code",
        "colab": {
          "base_uri": "https://localhost:8080/",
          "height": 202
        },
        "outputId": "b57ee385-6849-427b-8588-042b52ec1fb4"
      },
      "source": [
        "movie.head()"
      ],
      "execution_count": 5,
      "outputs": [
        {
          "output_type": "execute_result",
          "data": {
            "text/html": [
              "<div>\n",
              "<style scoped>\n",
              "    .dataframe tbody tr th:only-of-type {\n",
              "        vertical-align: middle;\n",
              "    }\n",
              "\n",
              "    .dataframe tbody tr th {\n",
              "        vertical-align: top;\n",
              "    }\n",
              "\n",
              "    .dataframe thead th {\n",
              "        text-align: right;\n",
              "    }\n",
              "</style>\n",
              "<table border=\"1\" class=\"dataframe\">\n",
              "  <thead>\n",
              "    <tr style=\"text-align: right;\">\n",
              "      <th></th>\n",
              "      <th>movieId</th>\n",
              "      <th>title</th>\n",
              "      <th>genres</th>\n",
              "    </tr>\n",
              "  </thead>\n",
              "  <tbody>\n",
              "    <tr>\n",
              "      <th>0</th>\n",
              "      <td>1</td>\n",
              "      <td>Toy Story (1995)</td>\n",
              "      <td>Adventure|Animation|Children|Comedy|Fantasy</td>\n",
              "    </tr>\n",
              "    <tr>\n",
              "      <th>1</th>\n",
              "      <td>2</td>\n",
              "      <td>Jumanji (1995)</td>\n",
              "      <td>Adventure|Children|Fantasy</td>\n",
              "    </tr>\n",
              "    <tr>\n",
              "      <th>2</th>\n",
              "      <td>3</td>\n",
              "      <td>Grumpier Old Men (1995)</td>\n",
              "      <td>Comedy|Romance</td>\n",
              "    </tr>\n",
              "    <tr>\n",
              "      <th>3</th>\n",
              "      <td>4</td>\n",
              "      <td>Waiting to Exhale (1995)</td>\n",
              "      <td>Comedy|Drama|Romance</td>\n",
              "    </tr>\n",
              "    <tr>\n",
              "      <th>4</th>\n",
              "      <td>5</td>\n",
              "      <td>Father of the Bride Part II (1995)</td>\n",
              "      <td>Comedy</td>\n",
              "    </tr>\n",
              "  </tbody>\n",
              "</table>\n",
              "</div>"
            ],
            "text/plain": [
              "   movieId  ...                                       genres\n",
              "0        1  ...  Adventure|Animation|Children|Comedy|Fantasy\n",
              "1        2  ...                   Adventure|Children|Fantasy\n",
              "2        3  ...                               Comedy|Romance\n",
              "3        4  ...                         Comedy|Drama|Romance\n",
              "4        5  ...                                       Comedy\n",
              "\n",
              "[5 rows x 3 columns]"
            ]
          },
          "metadata": {
            "tags": []
          },
          "execution_count": 5
        }
      ]
    },
    {
      "cell_type": "markdown",
      "metadata": {
        "id": "-HGsd721yqgb",
        "colab_type": "text"
      },
      "source": [
        "First clean our dataset a bit by clearing year from title column and generating year column."
      ]
    },
    {
      "cell_type": "code",
      "metadata": {
        "id": "5BGn6Pt8yrT-",
        "colab_type": "code",
        "colab": {}
      },
      "source": [
        "\n",
        "movie['year'] = movie.title.str.extract('(\\(\\d\\d\\d\\d\\))',expand=False)\n",
        "#Removing the parentheses\n",
        "movie['year'] = movie.year.str.extract('(\\d\\d\\d\\d)',expand=False)"
      ],
      "execution_count": 6,
      "outputs": []
    },
    {
      "cell_type": "code",
      "metadata": {
        "id": "A842rwgAyzxu",
        "colab_type": "code",
        "colab": {
          "base_uri": "https://localhost:8080/",
          "height": 202
        },
        "outputId": "78cca335-f81b-4614-a5e7-1933d6f91771"
      },
      "source": [
        "#Removing the years from the 'title' column\n",
        "movie['title'] = movie.title.str.replace('(\\(\\d\\d\\d\\d\\))', '')\n",
        "#Applying the strip function to get rid of any ending whitespace characters that may have appeared\n",
        "movie['title'] = movie['title'].str.strip()\n",
        "movie.head()"
      ],
      "execution_count": 7,
      "outputs": [
        {
          "output_type": "execute_result",
          "data": {
            "text/html": [
              "<div>\n",
              "<style scoped>\n",
              "    .dataframe tbody tr th:only-of-type {\n",
              "        vertical-align: middle;\n",
              "    }\n",
              "\n",
              "    .dataframe tbody tr th {\n",
              "        vertical-align: top;\n",
              "    }\n",
              "\n",
              "    .dataframe thead th {\n",
              "        text-align: right;\n",
              "    }\n",
              "</style>\n",
              "<table border=\"1\" class=\"dataframe\">\n",
              "  <thead>\n",
              "    <tr style=\"text-align: right;\">\n",
              "      <th></th>\n",
              "      <th>movieId</th>\n",
              "      <th>title</th>\n",
              "      <th>genres</th>\n",
              "      <th>year</th>\n",
              "    </tr>\n",
              "  </thead>\n",
              "  <tbody>\n",
              "    <tr>\n",
              "      <th>0</th>\n",
              "      <td>1</td>\n",
              "      <td>Toy Story</td>\n",
              "      <td>Adventure|Animation|Children|Comedy|Fantasy</td>\n",
              "      <td>1995</td>\n",
              "    </tr>\n",
              "    <tr>\n",
              "      <th>1</th>\n",
              "      <td>2</td>\n",
              "      <td>Jumanji</td>\n",
              "      <td>Adventure|Children|Fantasy</td>\n",
              "      <td>1995</td>\n",
              "    </tr>\n",
              "    <tr>\n",
              "      <th>2</th>\n",
              "      <td>3</td>\n",
              "      <td>Grumpier Old Men</td>\n",
              "      <td>Comedy|Romance</td>\n",
              "      <td>1995</td>\n",
              "    </tr>\n",
              "    <tr>\n",
              "      <th>3</th>\n",
              "      <td>4</td>\n",
              "      <td>Waiting to Exhale</td>\n",
              "      <td>Comedy|Drama|Romance</td>\n",
              "      <td>1995</td>\n",
              "    </tr>\n",
              "    <tr>\n",
              "      <th>4</th>\n",
              "      <td>5</td>\n",
              "      <td>Father of the Bride Part II</td>\n",
              "      <td>Comedy</td>\n",
              "      <td>1995</td>\n",
              "    </tr>\n",
              "  </tbody>\n",
              "</table>\n",
              "</div>"
            ],
            "text/plain": [
              "   movieId  ...  year\n",
              "0        1  ...  1995\n",
              "1        2  ...  1995\n",
              "2        3  ...  1995\n",
              "3        4  ...  1995\n",
              "4        5  ...  1995\n",
              "\n",
              "[5 rows x 4 columns]"
            ]
          },
          "metadata": {
            "tags": []
          },
          "execution_count": 7
        }
      ]
    },
    {
      "cell_type": "code",
      "metadata": {
        "id": "vM_NmHLay5rF",
        "colab_type": "code",
        "colab": {
          "base_uri": "https://localhost:8080/",
          "height": 202
        },
        "outputId": "faf792e6-12d4-41d6-8bdc-d54230719294"
      },
      "source": [
        "rating.groupby('movieId').rating.mean()\n",
        "rating.head()"
      ],
      "execution_count": 8,
      "outputs": [
        {
          "output_type": "execute_result",
          "data": {
            "text/html": [
              "<div>\n",
              "<style scoped>\n",
              "    .dataframe tbody tr th:only-of-type {\n",
              "        vertical-align: middle;\n",
              "    }\n",
              "\n",
              "    .dataframe tbody tr th {\n",
              "        vertical-align: top;\n",
              "    }\n",
              "\n",
              "    .dataframe thead th {\n",
              "        text-align: right;\n",
              "    }\n",
              "</style>\n",
              "<table border=\"1\" class=\"dataframe\">\n",
              "  <thead>\n",
              "    <tr style=\"text-align: right;\">\n",
              "      <th></th>\n",
              "      <th>userId</th>\n",
              "      <th>movieId</th>\n",
              "      <th>rating</th>\n",
              "      <th>timestamp</th>\n",
              "    </tr>\n",
              "  </thead>\n",
              "  <tbody>\n",
              "    <tr>\n",
              "      <th>0</th>\n",
              "      <td>1</td>\n",
              "      <td>2</td>\n",
              "      <td>3.5</td>\n",
              "      <td>2005-04-02 23:53:47</td>\n",
              "    </tr>\n",
              "    <tr>\n",
              "      <th>1</th>\n",
              "      <td>1</td>\n",
              "      <td>29</td>\n",
              "      <td>3.5</td>\n",
              "      <td>2005-04-02 23:31:16</td>\n",
              "    </tr>\n",
              "    <tr>\n",
              "      <th>2</th>\n",
              "      <td>1</td>\n",
              "      <td>32</td>\n",
              "      <td>3.5</td>\n",
              "      <td>2005-04-02 23:33:39</td>\n",
              "    </tr>\n",
              "    <tr>\n",
              "      <th>3</th>\n",
              "      <td>1</td>\n",
              "      <td>47</td>\n",
              "      <td>3.5</td>\n",
              "      <td>2005-04-02 23:32:07</td>\n",
              "    </tr>\n",
              "    <tr>\n",
              "      <th>4</th>\n",
              "      <td>1</td>\n",
              "      <td>50</td>\n",
              "      <td>3.5</td>\n",
              "      <td>2005-04-02 23:29:40</td>\n",
              "    </tr>\n",
              "  </tbody>\n",
              "</table>\n",
              "</div>"
            ],
            "text/plain": [
              "   userId  movieId  rating            timestamp\n",
              "0       1        2     3.5  2005-04-02 23:53:47\n",
              "1       1       29     3.5  2005-04-02 23:31:16\n",
              "2       1       32     3.5  2005-04-02 23:33:39\n",
              "3       1       47     3.5  2005-04-02 23:32:07\n",
              "4       1       50     3.5  2005-04-02 23:29:40"
            ]
          },
          "metadata": {
            "tags": []
          },
          "execution_count": 8
        }
      ]
    },
    {
      "cell_type": "markdown",
      "metadata": {
        "id": "IKO7bfEHzDer",
        "colab_type": "text"
      },
      "source": [
        "Now join the two data sets as we require user ID , movie rating, and name of all the movies for our model."
      ]
    },
    {
      "cell_type": "code",
      "metadata": {
        "id": "sXbY83pjzEdF",
        "colab_type": "code",
        "colab": {
          "base_uri": "https://localhost:8080/",
          "height": 762
        },
        "outputId": "29315e29-2936-47eb-cd32-3c244ff0863d"
      },
      "source": [
        "df=movie.join(rating,lsuffix='N', rsuffix='K')\n",
        "df"
      ],
      "execution_count": 10,
      "outputs": [
        {
          "output_type": "execute_result",
          "data": {
            "text/html": [
              "<div>\n",
              "<style scoped>\n",
              "    .dataframe tbody tr th:only-of-type {\n",
              "        vertical-align: middle;\n",
              "    }\n",
              "\n",
              "    .dataframe tbody tr th {\n",
              "        vertical-align: top;\n",
              "    }\n",
              "\n",
              "    .dataframe thead th {\n",
              "        text-align: right;\n",
              "    }\n",
              "</style>\n",
              "<table border=\"1\" class=\"dataframe\">\n",
              "  <thead>\n",
              "    <tr style=\"text-align: right;\">\n",
              "      <th></th>\n",
              "      <th>movieIdN</th>\n",
              "      <th>title</th>\n",
              "      <th>genres</th>\n",
              "      <th>userId</th>\n",
              "      <th>movieIdK</th>\n",
              "      <th>rating</th>\n",
              "      <th>timestamp</th>\n",
              "    </tr>\n",
              "  </thead>\n",
              "  <tbody>\n",
              "    <tr>\n",
              "      <th>0</th>\n",
              "      <td>1</td>\n",
              "      <td>Toy Story (1995)</td>\n",
              "      <td>Adventure|Animation|Children|Comedy|Fantasy</td>\n",
              "      <td>1</td>\n",
              "      <td>2</td>\n",
              "      <td>3.5</td>\n",
              "      <td>2005-04-02 23:53:47</td>\n",
              "    </tr>\n",
              "    <tr>\n",
              "      <th>1</th>\n",
              "      <td>2</td>\n",
              "      <td>Jumanji (1995)</td>\n",
              "      <td>Adventure|Children|Fantasy</td>\n",
              "      <td>1</td>\n",
              "      <td>29</td>\n",
              "      <td>3.5</td>\n",
              "      <td>2005-04-02 23:31:16</td>\n",
              "    </tr>\n",
              "    <tr>\n",
              "      <th>2</th>\n",
              "      <td>3</td>\n",
              "      <td>Grumpier Old Men (1995)</td>\n",
              "      <td>Comedy|Romance</td>\n",
              "      <td>1</td>\n",
              "      <td>32</td>\n",
              "      <td>3.5</td>\n",
              "      <td>2005-04-02 23:33:39</td>\n",
              "    </tr>\n",
              "    <tr>\n",
              "      <th>3</th>\n",
              "      <td>4</td>\n",
              "      <td>Waiting to Exhale (1995)</td>\n",
              "      <td>Comedy|Drama|Romance</td>\n",
              "      <td>1</td>\n",
              "      <td>47</td>\n",
              "      <td>3.5</td>\n",
              "      <td>2005-04-02 23:32:07</td>\n",
              "    </tr>\n",
              "    <tr>\n",
              "      <th>4</th>\n",
              "      <td>5</td>\n",
              "      <td>Father of the Bride Part II (1995)</td>\n",
              "      <td>Comedy</td>\n",
              "      <td>1</td>\n",
              "      <td>50</td>\n",
              "      <td>3.5</td>\n",
              "      <td>2005-04-02 23:29:40</td>\n",
              "    </tr>\n",
              "    <tr>\n",
              "      <th>...</th>\n",
              "      <td>...</td>\n",
              "      <td>...</td>\n",
              "      <td>...</td>\n",
              "      <td>...</td>\n",
              "      <td>...</td>\n",
              "      <td>...</td>\n",
              "      <td>...</td>\n",
              "    </tr>\n",
              "    <tr>\n",
              "      <th>27273</th>\n",
              "      <td>131254</td>\n",
              "      <td>Kein Bund für's Leben (2007)</td>\n",
              "      <td>Comedy</td>\n",
              "      <td>211</td>\n",
              "      <td>527</td>\n",
              "      <td>5.0</td>\n",
              "      <td>2006-10-08 18:35:17</td>\n",
              "    </tr>\n",
              "    <tr>\n",
              "      <th>27274</th>\n",
              "      <td>131256</td>\n",
              "      <td>Feuer, Eis &amp; Dosenbier (2002)</td>\n",
              "      <td>Comedy</td>\n",
              "      <td>211</td>\n",
              "      <td>589</td>\n",
              "      <td>3.5</td>\n",
              "      <td>2006-10-08 18:37:28</td>\n",
              "    </tr>\n",
              "    <tr>\n",
              "      <th>27275</th>\n",
              "      <td>131258</td>\n",
              "      <td>The Pirates (2014)</td>\n",
              "      <td>Adventure</td>\n",
              "      <td>211</td>\n",
              "      <td>593</td>\n",
              "      <td>4.0</td>\n",
              "      <td>2006-10-08 18:38:01</td>\n",
              "    </tr>\n",
              "    <tr>\n",
              "      <th>27276</th>\n",
              "      <td>131260</td>\n",
              "      <td>Rentun Ruusu (2001)</td>\n",
              "      <td>(no genres listed)</td>\n",
              "      <td>211</td>\n",
              "      <td>594</td>\n",
              "      <td>4.5</td>\n",
              "      <td>2006-10-08 18:31:34</td>\n",
              "    </tr>\n",
              "    <tr>\n",
              "      <th>27277</th>\n",
              "      <td>131262</td>\n",
              "      <td>Innocence (2014)</td>\n",
              "      <td>Adventure|Fantasy|Horror</td>\n",
              "      <td>211</td>\n",
              "      <td>648</td>\n",
              "      <td>4.0</td>\n",
              "      <td>2006-10-08 18:39:33</td>\n",
              "    </tr>\n",
              "  </tbody>\n",
              "</table>\n",
              "<p>27278 rows × 7 columns</p>\n",
              "</div>"
            ],
            "text/plain": [
              "       movieIdN  ...            timestamp\n",
              "0             1  ...  2005-04-02 23:53:47\n",
              "1             2  ...  2005-04-02 23:31:16\n",
              "2             3  ...  2005-04-02 23:33:39\n",
              "3             4  ...  2005-04-02 23:32:07\n",
              "4             5  ...  2005-04-02 23:29:40\n",
              "...         ...  ...                  ...\n",
              "27273    131254  ...  2006-10-08 18:35:17\n",
              "27274    131256  ...  2006-10-08 18:37:28\n",
              "27275    131258  ...  2006-10-08 18:38:01\n",
              "27276    131260  ...  2006-10-08 18:31:34\n",
              "27277    131262  ...  2006-10-08 18:39:33\n",
              "\n",
              "[27278 rows x 7 columns]"
            ]
          },
          "metadata": {
            "tags": []
          },
          "execution_count": 10
        }
      ]
    },
    {
      "cell_type": "markdown",
      "metadata": {
        "id": "VtqX29iZzOIa",
        "colab_type": "text"
      },
      "source": [
        "Let's remove unnessesary columns."
      ]
    },
    {
      "cell_type": "code",
      "metadata": {
        "id": "uGxI3LyrzO_d",
        "colab_type": "code",
        "colab": {}
      },
      "source": [
        "df=df.drop(['movieIdK','genres','timestamp'],axis=1)"
      ],
      "execution_count": 12,
      "outputs": []
    },
    {
      "cell_type": "markdown",
      "metadata": {
        "id": "KVZIEEEpzmNo",
        "colab_type": "text"
      },
      "source": [
        "We have to make a matrix with these columns for our model."
      ]
    },
    {
      "cell_type": "code",
      "metadata": {
        "id": "FAUWRU9UznU1",
        "colab_type": "code",
        "colab": {
          "base_uri": "https://localhost:8080/",
          "height": 901
        },
        "outputId": "7d86c194-13a5-43b2-c700-f22c9f52e3aa"
      },
      "source": [
        "# There will be lot of nan value in our new dataframe as it is highly unlikely that that ours users have seen almost all movies.\n",
        "movie_users=df.pivot(index='movieIdN', columns='userId',values='rating').fillna(0)\n",
        "matrix_movies_users=csr_matrix(movie_users.values)\n",
        "print(matrix_movies_users)"
      ],
      "execution_count": 13,
      "outputs": [
        {
          "output_type": "stream",
          "text": [
            "  (0, 0)\t3.5\n",
            "  (1, 0)\t3.5\n",
            "  (2, 0)\t3.5\n",
            "  (3, 0)\t3.5\n",
            "  (4, 0)\t3.5\n",
            "  (5, 0)\t3.5\n",
            "  (6, 0)\t4.0\n",
            "  (7, 0)\t4.0\n",
            "  (8, 0)\t4.0\n",
            "  (9, 0)\t4.0\n",
            "  (10, 0)\t4.0\n",
            "  (11, 0)\t4.0\n",
            "  (12, 0)\t4.0\n",
            "  (13, 0)\t3.5\n",
            "  (14, 0)\t3.5\n",
            "  (15, 0)\t4.0\n",
            "  (16, 0)\t3.5\n",
            "  (17, 0)\t3.5\n",
            "  (18, 0)\t3.0\n",
            "  (19, 0)\t3.5\n",
            "  (20, 0)\t3.5\n",
            "  (21, 0)\t3.5\n",
            "  (22, 0)\t4.0\n",
            "  (23, 0)\t4.0\n",
            "  (24, 0)\t3.5\n",
            "  :\t:\n",
            "  (27253, 209)\t3.0\n",
            "  (27254, 209)\t4.0\n",
            "  (27255, 209)\t5.0\n",
            "  (27256, 209)\t4.0\n",
            "  (27257, 209)\t4.0\n",
            "  (27258, 209)\t4.0\n",
            "  (27259, 209)\t2.0\n",
            "  (27260, 210)\t3.0\n",
            "  (27261, 210)\t3.0\n",
            "  (27262, 210)\t3.0\n",
            "  (27263, 210)\t4.0\n",
            "  (27264, 210)\t4.0\n",
            "  (27265, 210)\t5.0\n",
            "  (27266, 210)\t3.0\n",
            "  (27267, 210)\t4.0\n",
            "  (27268, 210)\t5.0\n",
            "  (27269, 210)\t4.0\n",
            "  (27270, 210)\t4.0\n",
            "  (27271, 210)\t5.0\n",
            "  (27272, 210)\t3.0\n",
            "  (27273, 210)\t5.0\n",
            "  (27274, 210)\t3.5\n",
            "  (27275, 210)\t4.0\n",
            "  (27276, 210)\t4.5\n",
            "  (27277, 210)\t4.0\n"
          ],
          "name": "stdout"
        }
      ]
    },
    {
      "cell_type": "markdown",
      "metadata": {
        "id": "KuiMTaNmzzaO",
        "colab_type": "text"
      },
      "source": [
        "We gonna use NearestNeighbors for computing similarities between the ratings rated by other users on same movie. There are different metric in knn like Euclidean Distance,Manhattan Distance,Minkowski Distance,Cosine Similarity.In this we will use cosine similarity as our metric."
      ]
    },
    {
      "cell_type": "code",
      "metadata": {
        "id": "GsXEtelAz0St",
        "colab_type": "code",
        "colab": {}
      },
      "source": [
        "knn= NearestNeighbors(metric='cosine', algorithm='brute', n_neighbors=10)"
      ],
      "execution_count": 14,
      "outputs": []
    },
    {
      "cell_type": "markdown",
      "metadata": {
        "id": "9mmkifw-z8vK",
        "colab_type": "text"
      },
      "source": [
        "Fitting the model"
      ]
    },
    {
      "cell_type": "code",
      "metadata": {
        "id": "jSD1uhpIz_7w",
        "colab_type": "code",
        "colab": {
          "base_uri": "https://localhost:8080/",
          "height": 69
        },
        "outputId": "420d8a34-e9ae-455e-a486-038c93e59f98"
      },
      "source": [
        "knn.fit(matrix_movies_users)"
      ],
      "execution_count": 15,
      "outputs": [
        {
          "output_type": "execute_result",
          "data": {
            "text/plain": [
              "NearestNeighbors(algorithm='brute', leaf_size=30, metric='cosine',\n",
              "                 metric_params=None, n_jobs=None, n_neighbors=10, p=2,\n",
              "                 radius=1.0)"
            ]
          },
          "metadata": {
            "tags": []
          },
          "execution_count": 15
        }
      ]
    },
    {
      "cell_type": "markdown",
      "metadata": {
        "id": "0S9FNK8v0KOl",
        "colab_type": "text"
      },
      "source": [
        "Now let's make our recommendation function.In this I have used a function from library named as fuzzywuzzy ,it solves the problem of finding the movies with mis-spells and regardless of its letter in lower case or upper case."
      ]
    },
    {
      "cell_type": "code",
      "metadata": {
        "id": "U5ZEBrND0LBN",
        "colab_type": "code",
        "colab": {
          "base_uri": "https://localhost:8080/",
          "height": 156
        },
        "outputId": "22435e65-1150-4e0e-ca45-c169541fe595"
      },
      "source": [
        "def recommender(movie_name, data,model, n_recommendations ):\n",
        "    model.fit(data)\n",
        "    idx=process.extractOne(movie_name, df['title'])[2]\n",
        "    print('Movie Selected:-',df['title'][idx], 'Index: ',idx)\n",
        "    print('Searching for recommendations.....')\n",
        "    distances, indices=model.kneighbors(data[idx], n_neighbors=n_recommendations)\n",
        "    for i in indices:\n",
        "        print(df['title'][i].where(i!=idx))\n",
        "    \n",
        "recommender('jumanji', matrix_movies_users, knn,5)"
      ],
      "execution_count": 21,
      "outputs": [
        {
          "output_type": "stream",
          "text": [
            "Movie Selected:- Jumanji (1995) Index:  1\n",
            "Searching for recommendations.....\n",
            "117                   Steal Big, Steal Little (1995)\n",
            "115            Young Poisoner's Handbook, The (1995)\n",
            "119                  Boys of St. Vincent, The (1992)\n",
            "118                              Race the Sun (1996)\n",
            "121    Chungking Express (Chung Hing sam lam) (1994)\n",
            "Name: title, dtype: object\n"
          ],
          "name": "stdout"
        }
      ]
    },
    {
      "cell_type": "markdown",
      "metadata": {
        "id": "Uhj0bPTe06AN",
        "colab_type": "text"
      },
      "source": [
        "**Results**"
      ]
    },
    {
      "cell_type": "markdown",
      "metadata": {
        "id": "mTKSuRJt1AQX",
        "colab_type": "text"
      },
      "source": [
        "Item-item collaborative filtering had less error than user-user collaborative filtering. In addition, its less-dynamic model was computed less often and stored in a smaller matrix, so item-item system performance was better than user-user systems.**"
      ]
    },
    {
      "cell_type": "markdown",
      "metadata": {
        "id": "Rn5NFiVF1GUf",
        "colab_type": "text"
      },
      "source": [
        "**When Else Can Collaborative Filtering Be Used?**"
      ]
    },
    {
      "cell_type": "markdown",
      "metadata": {
        "id": "aembXPhD1NrY",
        "colab_type": "text"
      },
      "source": [
        "Collaborative filtering works around the interactions that users have with items. These interactions can help find patterns that the data about the items or users itself can’t. Here are some points that can help you decide if collaborative filtering can be used:\n",
        "\n",
        "-Collaborative filtering doesn’t require features about the items or users to be known. It is suited for a set of different types of items, for example, a supermarket’s inventory where items of various categories can be added. In a set of similar items such as that of a bookstore, though, known features like writers and genres can be useful and might benefit from content-based or hybrid approaches.\n",
        "\n",
        "-Collaborative filtering can help recommenders to not overspecialize in a user’s profile and recommend items that are completely different from what they have seen before. If you want your recommender to not suggest a pair of sneakers to someone who just bought another similar pair of sneakers, then try to add collaborative filtering to your recommender spell.\n",
        "\n",
        "Although collaborative Filtering is very commonly used in recommenders, some of the challenges that are faced while using it are the following:\n",
        "\n",
        "Collaborative filtering can lead to some problems like cold start for new items that are added to the list. Until someone rates them, they don’t get recommended.\n",
        "\n",
        "-Data sparsity can affect the quality of user-based recommenders and also add to the cold start problem mentioned above.\n",
        "\n",
        "-Scaling can be a challenge for growing datasets as the complexity can become too large. Item-based recommenders are faster than user-based when the dataset is large.\n",
        "\n",
        "-With a straightforward implementation, you might observe that the recommendations tend to be already popular, and the items from the long tail section might get ignored.\n",
        "\n",
        "With every type of recommender algorithm having its own list of pros and cons, it’s usually a hybrid recommender that comes to the rescue. The benefits of multiple algorithms working together or in a pipeline can help you set up more accurate recommenders. In fact, the solution of the winner of the Netflix prize was also a complex mix of multiple algorithms."
      ]
    },
    {
      "cell_type": "code",
      "metadata": {
        "id": "frPn197B1VBF",
        "colab_type": "code",
        "colab": {}
      },
      "source": [
        ""
      ],
      "execution_count": null,
      "outputs": []
    }
  ]
}